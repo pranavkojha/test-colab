{
  "nbformat": 4,
  "nbformat_minor": 0,
  "metadata": {
    "colab": {
      "provenance": [],
      "include_colab_link": true
    },
    "kernelspec": {
      "name": "python3",
      "display_name": "Python 3"
    },
    "language_info": {
      "name": "python"
    }
  },
  "cells": [
    {
      "cell_type": "markdown",
      "metadata": {
        "id": "view-in-github",
        "colab_type": "text"
      },
      "source": [
        "<a href=\"https://colab.research.google.com/github/pranavkojha/test-colab/blob/main/Intro.ipynb\" target=\"_parent\"><img src=\"https://colab.research.google.com/assets/colab-badge.svg\" alt=\"Open In Colab\"/></a>"
      ]
    },
    {
      "cell_type": "code",
      "execution_count": 1,
      "metadata": {
        "colab": {
          "base_uri": "https://localhost:8080/"
        },
        "id": "wh3Pj5SAc8nA",
        "outputId": "929058aa-8b52-45ba-c090-43fee92a1dd8"
      },
      "outputs": [
        {
          "output_type": "stream",
          "name": "stdout",
          "text": [
            "Dude!\n"
          ]
        }
      ],
      "source": [
        "print(\"Dude!\")"
      ]
    },
    {
      "cell_type": "code",
      "source": [
        "print(\"Where is my car?\")"
      ],
      "metadata": {
        "id": "3nhNw2AeirNE"
      },
      "execution_count": null,
      "outputs": []
    }
  ]
}